{
 "cells": [
  {
   "cell_type": "code",
   "execution_count": 1,
   "metadata": {},
   "outputs": [],
   "source": [
    "from pyspark.sql.functions import *\n",
    "from pyspark.sql.types import *\n",
    "from pyspark.sql import SparkSession\n",
    "spark = SparkSession.builder.appName(\"pysparkdf\").getOrCreate()\n",
    "from pyspark.sql.window import Window\n",
    "from googletrans import Translator\n",
    "translator = Translator()"
   ]
  },
  {
   "cell_type": "code",
   "execution_count": 2,
   "metadata": {},
   "outputs": [],
   "source": [
    "felices2021 = spark.read.format(\"csv\")\\\n",
    ".option(\"header\", \"true\")\\\n",
    ".option(\"inferSchema\", \"true\")\\\n",
    ".load(\"C:/Users/Gonzalo/Desktop/BOOTCAMP BIGDATA/big-data-processing/practica/world-happiness-report-2021.csv\")\n",
    "felices = spark.read.format(\"csv\")\\\n",
    ".option(\"header\", \"true\")\\\n",
    ".option(\"inferSchema\", \"true\")\\\n",
    ".load(\"C:/Users/Gonzalo/Desktop/BOOTCAMP BIGDATA/big-data-processing/practica/world-happiness-report.csv\")"
   ]
  },
  {
   "cell_type": "markdown",
   "metadata": {},
   "source": [
    "1 - País más felíz del 2021 ?"
   ]
  },
  {
   "cell_type": "code",
   "execution_count": 3,
   "metadata": {},
   "outputs": [
    {
     "name": "stdout",
     "output_type": "stream",
     "text": [
      "+------------+------------+\n",
      "|Country name|Ladder score|\n",
      "+------------+------------+\n",
      "|     Finland|       7.842|\n",
      "+------------+------------+\n",
      "\n",
      "El país más felíz es Finlandia\n"
     ]
    }
   ],
   "source": [
    "pais_mas_feliz = felices2021.select(\n",
    "  \"Country name\",\n",
    "  \"Ladder score\"\n",
    ").orderBy(desc(\"Ladder score\"))\\\n",
    "  .limit(1)\n",
    "\n",
    "pais_mas_feliz.cache\n",
    "pais_mas_feliz.show()\n",
    "x = pais_mas_feliz.first()\n",
    "pais = x[\"Country name\"]\n",
    "pais_traducido = translator.translate(pais, dest='es').text\n",
    "\n",
    "print(f\"El país más felíz es {pais_traducido}\")"
   ]
  },
  {
   "cell_type": "markdown",
   "metadata": {},
   "source": [
    "2 - País más felíz 2021 por continente"
   ]
  },
  {
   "cell_type": "code",
   "execution_count": 18,
   "metadata": {},
   "outputs": [
    {
     "name": "stdout",
     "output_type": "stream",
     "text": [
      "+---------+------------------------+------------+\n",
      "|Continent|Country name            |Ladder score|\n",
      "+---------+------------------------+------------+\n",
      "|Africa   |Israel                  |7.157       |\n",
      "|America  |New Zealand             |7.277       |\n",
      "|Asia     |Taiwan Province of China|6.584       |\n",
      "|Europe   |Finland                 |7.842       |\n",
      "+---------+------------------------+------------+\n",
      "\n"
     ]
    }
   ],
   "source": [
    "continentes = spark.createDataFrame([(\"Western Europe\", \"Europe\"), (\"North America and ANZ\", \"America\"),\n",
    "  (\"Middle East and North Africa\", \"Africa\"), (\"Latin America and Caribbean\", \"America\"),\n",
    "  (\"Central and Eastern Europe\", \"Europe\"), (\"East Asia\", \"Asia\"),\n",
    "  (\"Southeast Asia\", \"Asia\"), (\"Commonwealth of Independent States\", \"Asia\"),\n",
    "  (\"Sub-Saharan Africa\", \"Africa\"), (\"South Asia\",\"Asia\")],[\"Regional Indicator\",\"Continent\"])\n",
    "\n",
    "cruce2021 = felices2021.join(continentes, [\"Regional Indicator\"])\n",
    "\n",
    "w_conti = Window.partitionBy(\"Continent\").orderBy(desc(\"Ladder score\"))\n",
    "\n",
    "conti = cruce2021.withColumn(\"Rank\", rank().over(w_conti))\\\n",
    "  .filter(col(\"Rank\") == 1)\\\n",
    "  .select(\n",
    "    \"Continent\",\n",
    "    \"Country name\",\n",
    "    \"Ladder score\"\n",
    "  )\n",
    "\n",
    "conti.cache\n",
    "conti.show(truncate=False)"
   ]
  },
  {
   "cell_type": "markdown",
   "metadata": {},
   "source": [
    "3 - Cuál es el país que más veces top 1"
   ]
  },
  {
   "cell_type": "code",
   "execution_count": 16,
   "metadata": {},
   "outputs": [
    {
     "name": "stdout",
     "output_type": "stream",
     "text": [
      "+------------+-----------+\n",
      "|Country name|Times first|\n",
      "+------------+-----------+\n",
      "|     Denmark|          7|\n",
      "+------------+-----------+\n",
      "\n"
     ]
    }
   ],
   "source": [
    "w_y_felices = Window.partitionBy(\"year\").orderBy(desc(\"Life Ladder\"))\n",
    "\n",
    "top = felices.withColumn(\"Rank\", rank().over(w_y_felices))\\\n",
    "  .filter(col(\"Rank\") == 1)\\\n",
    "  .groupBy(\"Country name\").count().withColumnRenamed(\"count\", \"Times first\")\\\n",
    "  .orderBy(desc(\"Times first\"))\\\n",
    "  .limit(1)\n",
    "\n",
    "top.cache\n",
    "top.show()"
   ]
  },
  {
   "cell_type": "markdown",
   "metadata": {},
   "source": [
    "4 - Puesto de Felicidad tiene el país con mayor GDP del 2020"
   ]
  },
  {
   "cell_type": "code",
   "execution_count": 17,
   "metadata": {},
   "outputs": [
    {
     "name": "stdout",
     "output_type": "stream",
     "text": [
      "+------------+----------------+------------------+\n",
      "|Country name|Life Ladder Rank|Log GDP per capita|\n",
      "+------------+----------------+------------------+\n",
      "|     Ireland|              13|            11.323|\n",
      "+------------+----------------+------------------+\n",
      "\n"
     ]
    }
   ],
   "source": [
    "w_y_GDP = Window.partitionBy(\"year\").orderBy(desc(\"Log GDP per capita\"))\n",
    "\n",
    "top_GDP = felices.withColumn(\"GDP Rank\", rank().over(w_y_GDP))\\\n",
    "  .withColumn(\"Life Ladder Rank\", rank().over(w_y_felices))\\\n",
    "  .filter((col(\"year\") == 2020) & (col(\"GDP Rank\") == 1))\\\n",
    "  .select(\"Country name\", \"Life Ladder Rank\", \"Log GDP per capita\")\n",
    "\n",
    "top_GDP.cache\n",
    "top_GDP.show()"
   ]
  },
  {
   "cell_type": "markdown",
   "metadata": {},
   "source": [
    "5 - % ha variado a nivel mundial el GDP promedio del 2020 respecto al 2021"
   ]
  },
  {
   "cell_type": "code",
   "execution_count": 14,
   "metadata": {},
   "outputs": [
    {
     "name": "stdout",
     "output_type": "stream",
     "text": [
      "+-----------------+-----------------+---------------------+--------------+\n",
      "|     Avg GDP 2020|     Avg GDP 2021|Difference percentage|Type of change|\n",
      "+-----------------+-----------------+---------------------+--------------+\n",
      "|9.751329545454546|9.432208053691273|    3.383316927984697|     Increased|\n",
      "+-----------------+-----------------+---------------------+--------------+\n",
      "\n",
      "Aumenta un 3.38% con respecto al año anterior\n"
     ]
    }
   ],
   "source": [
    "avg_2020 = felices.filter(col(\"year\") == 2020).agg(\n",
    "  avg(col(\"Log GDP per capita\"))\n",
    ").withColumnRenamed(\"avg(Log GDP per capita)\", \"Avg GDP 2020\")\n",
    "\n",
    "avg_2021 = felices2021.agg(\n",
    "  avg(col(\"Logged GDP per capita\"))\n",
    ").withColumnRenamed(\"avg(Logged GDP per capita)\", \"Avg GDP 2021\")\n",
    "\n",
    "variacion = avg_2020.join(avg_2021)\\\n",
    "  .withColumn(\"Difference percentage\", ((col(\"Avg GDP 2020\") - col(\"Avg GDP 2021\")) / col(\"Avg GDP 2021\")) * 100)\\\n",
    "  .withColumn(\"Type of change\", when(col(\"Difference percentage\")> 0, \"Increased\").when(col(\"Difference percentage\") == 0, \"Unchanged\").otherwise(\"Decreased\"))\n",
    "\n",
    "variacion.cache\n",
    "variacion.show()\n",
    "diferencia = variacion.select(\"Difference percentage\").collect()[0][0]\n",
    "if diferencia>0:\n",
    "    estado = \"Aumenta\"\n",
    "else:\n",
    "    estado = \"Desciende\"\n",
    "\n",
    "print(f\"{estado} un {diferencia:.2f}% con respecto al año anterior\")"
   ]
  },
  {
   "cell_type": "markdown",
   "metadata": {},
   "source": [
    "6 - País con mayor expectativa de vida y cuánto tenía en en el 2019"
   ]
  },
  {
   "cell_type": "code",
   "execution_count": 11,
   "metadata": {},
   "outputs": [
    {
     "name": "stdout",
     "output_type": "stream",
     "text": [
      "+----+------------+--------------------------------+\n",
      "|year|Country name|Healthy life expectancy at birth|\n",
      "+----+------------+--------------------------------+\n",
      "|2021|   Singapore|                          76.953|\n",
      "+----+------------+--------------------------------+\n",
      "\n"
     ]
    }
   ],
   "source": [
    "expe = felices.select(col(\"year\"), col(\"Country name\"), col(\"Healthy life expectancy at birth\"))\n",
    "expe2021 = felices2021.select(lit(2021), col(\"Country name\"), col(\"Healthy life expectancy\").alias(\"Healthy life expectancy at birth\"))\n",
    "expecruce = expe.union(expe2021)\n",
    "\n",
    "lastYear = expecruce.agg(max(col(\"year\")))\\\n",
    "  .limit(1)\\\n",
    "  .take(1)[0][0]\n",
    "\n",
    "w_year_expe = Window.partitionBy(\"year\").orderBy(desc(\"Healthy life expectancy at birth\"))\n",
    "\n",
    "rank_expe = expecruce.withColumn(\"Rank\", rank().over(w_year_expe))\n",
    "\n",
    "pais_expe = expecruce.withColumn(\"Rank\", rank().over(w_year_expe))\\\n",
    "  .filter((col(\"Rank\") == 1) & (col(\"year\")== lastYear))\\\n",
    "  .drop(\"Rank\")\n",
    "\n",
    "pais_expe.cache\n",
    "pais_expe.show()"
   ]
  },
  {
   "cell_type": "markdown",
   "metadata": {},
   "source": [
    "En 2019"
   ]
  },
  {
   "cell_type": "code",
   "execution_count": 13,
   "metadata": {},
   "outputs": [
    {
     "name": "stdout",
     "output_type": "stream",
     "text": [
      "+------------+--------------------------------+\n",
      "|Country name|Healthy life expectancy at birth|\n",
      "+------------+--------------------------------+\n",
      "|   Singapore|                            77.1|\n",
      "+------------+--------------------------------+\n",
      "\n"
     ]
    }
   ],
   "source": [
    "pais_expe_2019 = pais_expe.select(\"Country name\")\\\n",
    "  .join(rank_expe.filter(col(\"year\") == 2019), [\"Country name\"])\\\n",
    "  .drop(\"Rank\").drop(\"year\")\n",
    "\n",
    "pais_expe_2019.cache\n",
    "rank_expe.unpersist\n",
    "pais_expe_2019.show()"
   ]
  }
 ],
 "metadata": {
  "kernelspec": {
   "display_name": "Python 3",
   "language": "python",
   "name": "python3"
  },
  "language_info": {
   "codemirror_mode": {
    "name": "ipython",
    "version": 3
   },
   "file_extension": ".py",
   "mimetype": "text/x-python",
   "name": "python",
   "nbconvert_exporter": "python",
   "pygments_lexer": "ipython3",
   "version": "3.10.11"
  },
  "orig_nbformat": 4
 },
 "nbformat": 4,
 "nbformat_minor": 2
}
